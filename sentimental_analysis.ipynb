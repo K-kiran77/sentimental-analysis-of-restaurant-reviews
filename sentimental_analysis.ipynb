{
  "nbformat": 4,
  "nbformat_minor": 0,
  "metadata": {
    "colab": {
      "provenance": []
    },
    "kernelspec": {
      "name": "python3",
      "display_name": "Python 3"
    },
    "language_info": {
      "name": "python"
    }
  },
  "cells": [
    {
      "cell_type": "code",
      "execution_count": null,
      "metadata": {
        "id": "Y3rQ2iQJSlSl"
      },
      "outputs": [],
      "source": [
        "from google.colab import files"
      ]
    },
    {
      "cell_type": "code",
      "source": [
        "files.upload()"
      ],
      "metadata": {
        "id": "0JHSPM0mSpAT"
      },
      "execution_count": null,
      "outputs": []
    },
    {
      "cell_type": "markdown",
      "source": [
        "# Importing the Libraries"
      ],
      "metadata": {
        "id": "ZYMxnAWzfSKJ"
      }
    },
    {
      "cell_type": "code",
      "source": [
        "import numpy as np\n",
        "import pandas as pd\n",
        "import matplotlib.pyplot as plt\n",
        "%matplotlib inline\n",
        "import seaborn as sns"
      ],
      "metadata": {
        "id": "JObEknQhStuD"
      },
      "execution_count": null,
      "outputs": []
    },
    {
      "cell_type": "markdown",
      "source": [
        "# Importing the dataset"
      ],
      "metadata": {
        "id": "T8NcPU4CffXd"
      }
    },
    {
      "cell_type": "code",
      "source": [
        "dataset = pd.read_csv('Restaurant_Reviews.tsv', delimiter='\\t', quoting=3)"
      ],
      "metadata": {
        "id": "nV2Mv93CTCvs"
      },
      "execution_count": null,
      "outputs": []
    },
    {
      "cell_type": "markdown",
      "source": [
        "# **Multinomial Naive Bayes Model**\n",
        "\n"
      ],
      "metadata": {
        "id": "Z3aUj6PDjw6g"
      }
    },
    {
      "cell_type": "markdown",
      "source": [
        "# Data Cleaning"
      ],
      "metadata": {
        "id": "TaYYJAYufo1f"
      }
    },
    {
      "cell_type": "code",
      "source": [
        "import re\n",
        "import nltk\n",
        "nltk.download('stopwords')\n",
        "from nltk.corpus import stopwords\n",
        "from nltk.stem.porter import PorterStemmer\n",
        "corpus = []\n",
        "for i in range(0, 1000):\n",
        "  review = re.sub('[^a-zA-Z]', ' ', dataset['Review'][i])\n",
        "  review = review.lower()\n",
        "  review = review.split()\n",
        "  ps = PorterStemmer()\n",
        "  stop_words = stopwords.words('english')\n",
        "  stop_words.remove('not') # \"not\" can change the sentiment of the review so we should include \"not\" in our review by removing \"not\" from the stop_words not will be included in our review so our model accuracy will increase\n",
        "  review = [ps.stem(word) for word in review if not word in set(stop_words)]\n",
        "  review = ' '.join(review)\n",
        "  corpus.append(review)"
      ],
      "metadata": {
        "colab": {
          "base_uri": "https://localhost:8080/"
        },
        "id": "OW7PxKdCTT7Z",
        "outputId": "7f874528-5ad4-4bdc-8c87-6504dce6d320"
      },
      "execution_count": null,
      "outputs": [
        {
          "output_type": "stream",
          "name": "stderr",
          "text": [
            "[nltk_data] Downloading package stopwords to /root/nltk_data...\n",
            "[nltk_data]   Package stopwords is already up-to-date!\n"
          ]
        }
      ]
    },
    {
      "cell_type": "markdown",
      "source": [
        "# Creating the Bag of Words"
      ],
      "metadata": {
        "id": "8Mk9wK8Kf0wX"
      }
    },
    {
      "cell_type": "code",
      "source": [
        "from sklearn.feature_extraction.text import CountVectorizer\n",
        "cv = CountVectorizer(max_features = 205)\n",
        "X = cv.fit_transform(corpus).toarray()\n",
        "y = dataset.iloc[:, 1].values"
      ],
      "metadata": {
        "id": "vDYhieegUmNu"
      },
      "execution_count": null,
      "outputs": []
    },
    {
      "cell_type": "markdown",
      "source": [
        "# Spliting the dataset into Training set and Test set"
      ],
      "metadata": {
        "id": "pvac3Ozsf7Ya"
      }
    },
    {
      "cell_type": "code",
      "source": [
        "from sklearn.model_selection import train_test_split\n",
        "X_train, X_test, y_train, y_test = train_test_split(X, y, test_size = 0.20, random_state=46)"
      ],
      "metadata": {
        "id": "lasDKqNbVH8a"
      },
      "execution_count": null,
      "outputs": []
    },
    {
      "cell_type": "code",
      "source": [
        "X_train.shape, X_test.shape, y_train.shape, y_test.shape"
      ],
      "metadata": {
        "colab": {
          "base_uri": "https://localhost:8080/"
        },
        "id": "H1J9XrB1VgVN",
        "outputId": "34d630e5-75d1-43e9-9e65-d245a8dd6fa7"
      },
      "execution_count": null,
      "outputs": [
        {
          "output_type": "execute_result",
          "data": {
            "text/plain": [
              "((800, 205), (200, 205), (800,), (200,))"
            ]
          },
          "metadata": {},
          "execution_count": 129
        }
      ]
    },
    {
      "cell_type": "markdown",
      "source": [
        "# Training the MultinomialNaiveBayes model on the Training set"
      ],
      "metadata": {
        "id": "UgzE_2m2gE4y"
      }
    },
    {
      "cell_type": "code",
      "source": [
        "from sklearn.naive_bayes import MultinomialNB\n",
        "# Defining the model\n",
        "classifier = MultinomialNB()\n",
        "\n",
        "# fitting the model\n",
        "classifier.fit(X_train, y_train)\n",
        "\n",
        "# making predictions on the test set\n",
        "y_pred = classifier.predict(X_test)\n",
        "\n",
        "# making prediction on the training set\n",
        "y_pred_train = classifier.predict(X_train)"
      ],
      "metadata": {
        "id": "QErQXJwBVn2S"
      },
      "execution_count": null,
      "outputs": []
    },
    {
      "cell_type": "markdown",
      "source": [
        "# HyperParameter Tuning"
      ],
      "metadata": {
        "id": "jayaEMoFgQne"
      }
    },
    {
      "cell_type": "code",
      "source": [
        "best_model = None\n",
        "alpha = 0\n",
        "best_test_accuracy = 0\n",
        "for i in [float(x) / 10 for x in range(1, 11)]:\n",
        "  classifier = MultinomialNB(alpha = i)\n",
        "  classifier.fit(X_train, y_train)\n",
        "  y_pred = classifier.predict(X_test)\n",
        "  test_accuracy = accuracy_score(y_test, y_pred) * 100\n",
        "  if test_accuracy > best_test_accuracy:\n",
        "    best_test_accuracy = test_accuracy\n",
        "    best_model = classifier\n",
        "  print(\"for alpha = {} model accuracy is {:.2f}%\".format(i, test_accuracy))"
      ],
      "metadata": {
        "colab": {
          "base_uri": "https://localhost:8080/"
        },
        "id": "WNfOyCmPZJrC",
        "outputId": "8c25bc86-3ea2-4406-ff31-5f7b93284d48"
      },
      "execution_count": null,
      "outputs": [
        {
          "output_type": "stream",
          "name": "stdout",
          "text": [
            "for alpha = 0.1 model accuracy is 79.50%\n",
            "for alpha = 0.2 model accuracy is 79.00%\n",
            "for alpha = 0.3 model accuracy is 79.00%\n",
            "for alpha = 0.4 model accuracy is 79.00%\n",
            "for alpha = 0.5 model accuracy is 79.00%\n",
            "for alpha = 0.6 model accuracy is 79.50%\n",
            "for alpha = 0.7 model accuracy is 81.00%\n",
            "for alpha = 0.8 model accuracy is 81.50%\n",
            "for alpha = 0.9 model accuracy is 81.50%\n",
            "for alpha = 1.0 model accuracy is 81.50%\n"
          ]
        }
      ]
    },
    {
      "cell_type": "markdown",
      "source": [
        "# Making predictions on Test and Train set"
      ],
      "metadata": {
        "id": "OUavDLsfggz8"
      }
    },
    {
      "cell_type": "code",
      "source": [
        "# making predictions on the training set by using best_model after hyper parameter tuning\n",
        "y_pred_train = best_model.predict(X_train)\n",
        "\n",
        "# making prediction on the testing set by using best_model after hyper parameter tuning\n",
        "y_pred = best_model.predict(X_test)"
      ],
      "metadata": {
        "id": "-YqvkTvcaxWy"
      },
      "execution_count": null,
      "outputs": []
    },
    {
      "cell_type": "markdown",
      "source": [
        "# Making the Confusion Matrix"
      ],
      "metadata": {
        "id": "4VDoFP5zgojl"
      }
    },
    {
      "cell_type": "code",
      "source": [
        "from sklearn.metrics import confusion_matrix, accuracy_score, precision_score, recall_score\n",
        "\n",
        "# confusion matrix of y_test and y_pred\n",
        "cm = confusion_matrix(y_test, y_pred)\n",
        "\n",
        "# confusion matrix of y_train and y_pred_train\n",
        "cm_train = confusion_matrix(y_train, y_pred_train)\n",
        "\n",
        "# finding test accuracy\n",
        "test_accuracy = accuracy_score(y_test, y_pred)\n",
        "\n",
        "# finding train accuracy\n",
        "train_accuracy = accuracy_score(y_train, y_pred_train)\n",
        "\n",
        "# finding precision score\n",
        "precision = precision_score(y_test, y_pred)\n",
        "\n",
        "# finding recall score\n",
        "recall = recall_score(y_test, y_pred)\n",
        "print(\"The confusion matrix of train set:\\n\", cm_train)\n",
        "print(\"The confusion matrix of test set:\\n\", cm)\n",
        "print(\"training accuracy: {:.2f}%:\".format(train_accuracy*100))\n",
        "print(\"testing accuracy: {:.2f}%:\".format(test_accuracy*100))\n",
        "print(\"precision score: {:.2f}%:\".format(precision*100))\n",
        "print(\"recall score: {:.2f}%\".format(recall*100))"
      ],
      "metadata": {
        "colab": {
          "base_uri": "https://localhost:8080/"
        },
        "id": "Ssv18DpjWh0R",
        "outputId": "99e90637-6413-4b5f-e180-3274d8716d40"
      },
      "execution_count": null,
      "outputs": [
        {
          "output_type": "stream",
          "name": "stdout",
          "text": [
            "The confusion matrix of train set:\n",
            " [[353  53]\n",
            " [ 83 311]]\n",
            "The confusion matrix of test set:\n",
            " [[77 17]\n",
            " [20 86]]\n",
            "training accuracy: 83.00%:\n",
            "testing accuracy: 81.50%:\n",
            "precision score: 83.50%:\n",
            "recall score: 81.13%\n"
          ]
        }
      ]
    },
    {
      "cell_type": "markdown",
      "source": [
        "# Predicting Unseen data"
      ],
      "metadata": {
        "id": "7gr1J1L_gu_W"
      }
    },
    {
      "cell_type": "code",
      "source": [
        "# predicting new unseen data\n",
        "new_review = 'not that good'\n",
        "new_review = re.sub('[^a-zA-Z]', ' ', new_review)\n",
        "new_review = new_review.lower()\n",
        "new_review = new_review.split()\n",
        "ps = PorterStemmer()\n",
        "all_stopwords = stopwords.words('english')\n",
        "all_stopwords.remove('not')\n",
        "new_review = [ps.stem(word) for word in new_review if not word in set(all_stopwords)]\n",
        "new_review = ' '.join(new_review)\n",
        "new_corpus = [new_review]\n",
        "new_X_test = cv.transform(new_corpus).toarray()\n",
        "new_y_pred = best_model.predict(new_X_test)\n",
        "print(new_y_pred)"
      ],
      "metadata": {
        "colab": {
          "base_uri": "https://localhost:8080/"
        },
        "id": "rhhie07fYsns",
        "outputId": "c1e1d88f-57a2-4f0d-d4e1-a0e881ce368c"
      },
      "execution_count": null,
      "outputs": [
        {
          "output_type": "stream",
          "name": "stdout",
          "text": [
            "[0]\n"
          ]
        }
      ]
    },
    {
      "cell_type": "markdown",
      "source": [
        "# visualization of confusion matrix"
      ],
      "metadata": {
        "id": "lk_lR3U6g0VL"
      }
    },
    {
      "cell_type": "code",
      "source": [
        "# ploting the confusion matrix of training set\n",
        "plt.figure(figsize = (6, 3))\n",
        "sns.heatmap(cm_train, annot = True, cmap = \"BuPu\", fmt = 'd', xticklabels = ['Negative', 'Positive'], yticklabels = ['Negative', 'Positive'])\n",
        "plt.xlabel('predicted value')\n",
        "plt.ylabel('actual value')\n",
        "plt.show()"
      ],
      "metadata": {
        "colab": {
          "base_uri": "https://localhost:8080/",
          "height": 314
        },
        "id": "K35DZNNmdoT2",
        "outputId": "8108dca7-bb7d-4c72-a01b-e25ad00782c6"
      },
      "execution_count": null,
      "outputs": [
        {
          "output_type": "display_data",
          "data": {
            "text/plain": [
              "<Figure size 600x300 with 2 Axes>"
            ],
            "image/png": "[encoded data removed]"
          },
          "metadata": {}
        }
      ]
    },
    {
      "cell_type": "code",
      "source": [
        "# plotting the confusion matrix of test set\n",
        "plt.figure(figsize= (6, 3))\n",
        "sns.heatmap(cm, annot = True, cmap = \"BuPu\", fmt = 'd', xticklabels = ['Negative', 'Positive'], yticklabels = ['Negative', 'Positive'])\n",
        "plt.xlabel('Predicted value')\n",
        "plt.ylabel('actual value')"
      ],
      "metadata": {
        "colab": {
          "base_uri": "https://localhost:8080/",
          "height": 328
        },
        "id": "mbEycwOxeZww",
        "outputId": "5be84083-892a-497f-d474-2be3cd49faac"
      },
      "execution_count": null,
      "outputs": [
        {
          "output_type": "execute_result",
          "data": {
            "text/plain": [
              "Text(45.722222222222214, 0.5, 'actual value')"
            ]
          },
          "metadata": {},
          "execution_count": 136
        },
        {
          "output_type": "display_data",
          "data": {
            "text/plain": [
              "<Figure size 600x300 with 2 Axes>"
            ],
            "image/png": "[encoded data removed]"
          },
          "metadata": {}
        }
      ]
    },
    {
      "cell_type": "markdown",
      "source": [
        "# **K-NEAREST NEIGHBOR MODEL**\n"
      ],
      "metadata": {
        "id": "ZFiXmkOTmK-M"
      }
    },
    {
      "cell_type": "markdown",
      "source": [
        "# CLEANING THE DATA"
      ],
      "metadata": {
        "id": "x-HvAmQZmtgQ"
      }
    },
    {
      "cell_type": "code",
      "source": [
        "import re\n",
        "import nltk\n",
        "nltk.download('stopwords')\n",
        "from nltk.corpus import stopwords\n",
        "from nltk.stem.porter import PorterStemmer\n",
        "corpus = []\n",
        "for i in range(0, 1000):\n",
        "  review = re.sub('[^a-zA-Z]', ' ', dataset['Review'][i])\n",
        "  review = review.lower()\n",
        "  review = review.split()\n",
        "  ps = PorterStemmer()\n",
        "  stop_words = stopwords.words('english')\n",
        "  review = [ps.stem(word) for word in review if not word in set(stop_words)]\n",
        "  review = ' '.join(review)\n",
        "  corpus.append(review)"
      ],
      "metadata": {
        "colab": {
          "base_uri": "https://localhost:8080/"
        },
        "id": "Htvi7qozmXSF",
        "outputId": "6ba7ca44-005a-48b5-e07d-e5d6c6258333"
      },
      "execution_count": null,
      "outputs": [
        {
          "output_type": "stream",
          "name": "stderr",
          "text": [
            "[nltk_data] Downloading package stopwords to /root/nltk_data...\n",
            "[nltk_data]   Package stopwords is already up-to-date!\n"
          ]
        }
      ]
    },
    {
      "cell_type": "markdown",
      "source": [
        "# Creating the bag of words"
      ],
      "metadata": {
        "id": "iGKPhVTyyi-W"
      }
    },
    {
      "cell_type": "code",
      "source": [
        "from sklearn.feature_extraction.text import CountVectorizer\n",
        "cv = CountVectorizer(max_features = 200)\n",
        "X = cv.fit_transform(corpus).toarray()\n",
        "y = dataset.iloc[:, 1].values"
      ],
      "metadata": {
        "id": "BHnH_AMapXaN"
      },
      "execution_count": null,
      "outputs": []
    },
    {
      "cell_type": "markdown",
      "source": [
        "# Training the GAUSSIAN NAIVE BAYES model on Training set"
      ],
      "metadata": {
        "id": "ooHnqll1ysJy"
      }
    },
    {
      "cell_type": "code",
      "source": [
        "# importing modules\n",
        "from sklearn.model_selection import StratifiedKFold\n",
        "from sklearn.naive_bayes import GaussianNB\n",
        "from sklearn.metrics import accuracy_score"
      ],
      "metadata": {
        "id": "HR00x4pwpwv4"
      },
      "execution_count": null,
      "outputs": []
    },
    {
      "cell_type": "code",
      "source": [
        "# defining model\n",
        "classifier = GaussianNB()\n",
        "k_folds = 5\n",
        "CV = StratifiedKFold(n_splits=k_folds, shuffle = True, random_state = 42)\n",
        "# initializing variables to store best model and its corresponding scores\n",
        "best_model = None\n",
        "best_test_accuracy = 0\n",
        "best_train_accuracy = 0\n",
        "X_train1, X_test1, y_train1, y_test1 = None, None, None, None\n",
        "\n",
        "# perform cross-validation\n",
        "for train_idx, test_idx in CV.split(X, y):\n",
        "  X_train, X_test = X[train_idx], X[test_idx]\n",
        "  y_train, y_test = y[train_idx], y[test_idx]\n",
        "  # fit the model\n",
        "  classifier.fit(X_train, y_train)\n",
        "\n",
        "  # Making predictions and evaluating accuracy for both training and test data\n",
        "  y_pred_test = classifier.predict(X_test)\n",
        "  test_accuracy = accuracy_score(y_test, y_pred_test)\n",
        "\n",
        "  y_pred_train = classifier.predict(X_train)\n",
        "  train_accuracy = accuracy_score(y_train, y_pred_train)\n",
        "\n",
        "  # check if this model has the best test accuracy so far\n",
        "  if test_accuracy > best_test_accuracy:\n",
        "    best_test_accuracy = test_accuracy\n",
        "    best_train_accuracy = train_accuracy\n",
        "    X_train1, X_test1, y_train1, y_test1 = X_train,X_test, y_train, y_test\n",
        "    best_model = classifier\n",
        "print(f\"Training accuracy: {best_train_accuracy*100}%\")\n",
        "print(f\"Testing accuracy: {best_test_accuracy*100}%\")"
      ],
      "metadata": {
        "colab": {
          "base_uri": "https://localhost:8080/"
        },
        "id": "3vHcCQdVqGIw",
        "outputId": "b03b9931-74c3-473e-dd29-55c3673c8321"
      },
      "execution_count": null,
      "outputs": [
        {
          "output_type": "stream",
          "name": "stdout",
          "text": [
            "Training accuracy: 72.5%\n",
            "Testing accuracy: 72.5%\n"
          ]
        }
      ]
    },
    {
      "cell_type": "markdown",
      "source": [
        "# Predictions on Training and test sets"
      ],
      "metadata": {
        "id": "d29AiDydy1y5"
      }
    },
    {
      "cell_type": "code",
      "source": [
        "# prediction on train set\n",
        "y_pred_train = best_model.predict(X_train)\n",
        "\n",
        "# prediction on test set\n",
        "y_pred_test = best_model.predict(X_test)"
      ],
      "metadata": {
        "id": "mvoUyFIbsdkG"
      },
      "execution_count": null,
      "outputs": []
    },
    {
      "cell_type": "markdown",
      "source": [
        "# Making the confusion matrix"
      ],
      "metadata": {
        "id": "h6cgUieby-gq"
      }
    },
    {
      "cell_type": "code",
      "source": [
        "from sklearn.metrics import confusion_matrix, accuracy_score\n",
        "\n",
        "# confusion matrix of y_test and y_pred_test\n",
        "cm = confusion_matrix(y_test, y_pred_test)\n",
        "\n",
        "# confusion matrix of y_train and y_pred_train\n",
        "cm_train = confusion_matrix(y_train, y_pred_train)\n",
        "\n",
        "print(\"confusion matrix for training set: \\n\", cm_train)\n",
        "print(\"confusion matrix for testing set: \\n\", cm)\n",
        "print(\"Training accuracy:{:.2f}%\".format(accuracy_score(y_train, y_pred_train) * 100))\n",
        "print(\"Testing accuracy:{:.2f}%\".format(accuracy_score(y_test, y_pred_test)*100))"
      ],
      "metadata": {
        "colab": {
          "base_uri": "https://localhost:8080/"
        },
        "id": "Vx6kYF6-tPvj",
        "outputId": "d49a12ff-730e-48e5-e584-089f6dc11486"
      },
      "execution_count": null,
      "outputs": [
        {
          "output_type": "stream",
          "name": "stdout",
          "text": [
            "confusion matrix for training set: \n",
            " [[191 209]\n",
            " [ 11 389]]\n",
            "confusion matrix for testing set: \n",
            " [[52 48]\n",
            " [ 7 93]]\n",
            "Training accuracy:72.50%\n",
            "Testing accuracy:72.50%\n"
          ]
        }
      ]
    },
    {
      "cell_type": "markdown",
      "source": [
        "# predicting new review"
      ],
      "metadata": {
        "id": "mtpda4xJzCvf"
      }
    },
    {
      "cell_type": "code",
      "source": [
        "# predicting new review\n",
        "new_review = 'this dish is bad'\n",
        "new_review = re.sub('[^a-zA-Z]', ' ', new_review)\n",
        "new_review = new_review.lower()\n",
        "new_review = new_review.split()\n",
        "ps = PorterStemmer()\n",
        "all_stopwords = stopwords.words('english')\n",
        "new_review = [ps.stem(word) for word in new_review if not word in set(all_stopwords)]\n",
        "new_review = ' '.join(new_review)\n",
        "new_corpus = [new_review]\n",
        "new_X_test = cv.transform(new_corpus).toarray()\n",
        "new_y_pred = best_model.predict(new_X_test)\n",
        "print(new_y_pred)"
      ],
      "metadata": {
        "colab": {
          "base_uri": "https://localhost:8080/"
        },
        "id": "rI3lTTF6u6hc",
        "outputId": "0103610a-3492-4582-cf1b-453fff7877b6"
      },
      "execution_count": null,
      "outputs": [
        {
          "output_type": "stream",
          "name": "stdout",
          "text": [
            "[0]\n"
          ]
        }
      ]
    },
    {
      "cell_type": "markdown",
      "source": [
        "# visualization"
      ],
      "metadata": {
        "id": "d1XzAonnzGrw"
      }
    },
    {
      "cell_type": "code",
      "source": [
        "# plotting confusion matrix of train data\n",
        "plt.figure(figsize = (6, 3))\n",
        "sns.heatmap(cm_train, annot = True, cmap = \"PuBuGn\", fmt = 'd', xticklabels = ['Negative', 'Positive'], yticklabels = ['Negative', 'Positive'])\n",
        "plt.xlabel('predicted value')\n",
        "plt.ylabel('actual value')"
      ],
      "metadata": {
        "colab": {
          "base_uri": "https://localhost:8080/",
          "height": 328
        },
        "id": "boAIGWc-wGcP",
        "outputId": "ea0e0ddc-d83a-4a7f-f445-a1c11a28255e"
      },
      "execution_count": null,
      "outputs": [
        {
          "output_type": "execute_result",
          "data": {
            "text/plain": [
              "Text(45.722222222222214, 0.5, 'actual value')"
            ]
          },
          "metadata": {},
          "execution_count": 144
        },
        {
          "output_type": "display_data",
          "data": {
            "text/plain": [
              "<Figure size 600x300 with 2 Axes>"
            ],
            "image/png": "[encoded data removed]"
          },
          "metadata": {}
        }
      ]
    },
    {
      "cell_type": "code",
      "source": [
        "# plotting confusion matrix of test data\n",
        "plt.figure(figsize = (6, 3))\n",
        "sns.heatmap(cm, annot = True, cmap = \"PuBuGn\", fmt = 'd', xticklabels = ['Negative', 'Positive'], yticklabels = ['Negative', 'Positive'])\n",
        "plt.xlabel('Predicted value')\n",
        "plt.ylabel('actual value')"
      ],
      "metadata": {
        "colab": {
          "base_uri": "https://localhost:8080/",
          "height": 328
        },
        "id": "37NwgEoCx4xx",
        "outputId": "88a48410-6ade-4b8f-e469-fda86c6a08af"
      },
      "execution_count": null,
      "outputs": [
        {
          "output_type": "execute_result",
          "data": {
            "text/plain": [
              "Text(45.722222222222214, 0.5, 'actual value')"
            ]
          },
          "metadata": {},
          "execution_count": 145
        },
        {
          "output_type": "display_data",
          "data": {
            "text/plain": [
              "<Figure size 600x300 with 2 Axes>"
            ],
            "image/png": "[encoded data removed]"
          },
          "metadata": {}
        }
      ]
    },
    {
      "cell_type": "markdown",
      "source": [
        "# **SUPPORT VECTOR CLASSIFIER**"
      ],
      "metadata": {
        "id": "Fax0W0KihBJ0"
      }
    },
    {
      "cell_type": "markdown",
      "source": [
        "# DATA CLEANING"
      ],
      "metadata": {
        "id": "NcRddoGxql6v"
      }
    },
    {
      "cell_type": "code",
      "source": [
        "import re\n",
        "import nltk\n",
        "nltk.download('stopwords')\n",
        "from nltk.corpus import stopwords\n",
        "from nltk.stem.porter import PorterStemmer\n",
        "corpus = []\n",
        "for i in range(0, 1000):\n",
        "  review = re.sub('[^a-zA-Z]', ' ', dataset['Review'][i])\n",
        "  review = review.lower()\n",
        "  review = review.split()\n",
        "  ps = PorterStemmer()\n",
        "  stop_words = stopwords.words('english')\n",
        "  review = [ps.stem(word) for word in review if not word in set(stop_words)]\n",
        "  review = ' '.join(review)\n",
        "  corpus.append(review)"
      ],
      "metadata": {
        "colab": {
          "base_uri": "https://localhost:8080/"
        },
        "id": "SE-OzbGehGD3",
        "outputId": "4570b1fb-80a4-4156-a5a1-dfcab1ea548f"
      },
      "execution_count": null,
      "outputs": [
        {
          "output_type": "stream",
          "name": "stderr",
          "text": [
            "[nltk_data] Downloading package stopwords to /root/nltk_data...\n",
            "[nltk_data]   Package stopwords is already up-to-date!\n"
          ]
        }
      ]
    },
    {
      "cell_type": "markdown",
      "source": [
        "# CREATING THE BAG OF WORDS"
      ],
      "metadata": {
        "id": "xAHOR6gOqqP5"
      }
    },
    {
      "cell_type": "code",
      "source": [
        "from sklearn.feature_extraction.text import CountVectorizer\n",
        "cv = CountVectorizer(max_features = 200)\n",
        "X = cv.fit_transform(corpus).toarray()\n",
        "y = dataset.iloc[:, 1].values"
      ],
      "metadata": {
        "id": "htAUgUALiLXH"
      },
      "execution_count": null,
      "outputs": []
    },
    {
      "cell_type": "markdown",
      "source": [
        "# SPLIT THE DATASET INTO TRAINING SET AND TESTING SET"
      ],
      "metadata": {
        "id": "u6l8rkOhquis"
      }
    },
    {
      "cell_type": "code",
      "source": [
        "from sklearn.model_selection import train_test_split\n",
        "X_train, X_test, y_train, y_test = train_test_split(X, y, test_size = 0.20, random_state = 11)"
      ],
      "metadata": {
        "id": "dvMAjYmripfQ"
      },
      "execution_count": null,
      "outputs": []
    },
    {
      "cell_type": "code",
      "source": [
        "# Importing necessary libraries\n",
        "from sklearn.model_selection import GridSearchCV\n",
        "from sklearn.svm import SVC\n",
        "from sklearn.metrics import confusion_matrix, accuracy_score, precision_score, recall_score"
      ],
      "metadata": {
        "id": "gB_M2_9Zi-7Z"
      },
      "execution_count": null,
      "outputs": []
    },
    {
      "cell_type": "markdown",
      "source": [
        "# TRAINING SVC MODEL ON TRAINING SET"
      ],
      "metadata": {
        "id": "6Bo2rjfQq1yL"
      }
    },
    {
      "cell_type": "code",
      "source": [
        "# Define the model\n",
        "model = SVC()\n",
        "\n",
        "# defining hyperparameters to tune\n",
        "param_grid = {'C':[0.1, 1, 10], 'kernel':['linear', 'rbf']}\n",
        "\n",
        "# perform GridSearchCV to find the best hyperparameters\n",
        "grid_search = GridSearchCV(estimator = model, param_grid = param_grid, cv = 5)\n",
        "grid_search.fit(X_train, y_train)\n",
        "\n",
        "# use the best model obtained from GridSearchCV\n",
        "model = grid_search.best_estimator_\n",
        "\n",
        "# Train the model\n",
        "model.fit(X_train, y_train)\n",
        "\n",
        "# Make predictions on the training set\n",
        "y_train_pred = model.predict(X_train)\n",
        "\n",
        "# calculate the training accuracy\n",
        "training_accuracy = accuracy_score(y_train, y_train_pred)\n",
        "\n",
        "# Make predictions on the testing set\n",
        "y_test_pred = model.predict(X_test)\n",
        "\n",
        "# Calculate the testing accuracy\n",
        "testing_accuracy = accuracy_score(y_test, y_test_pred)\n",
        "precision = precision_score(y_test, y_test_pred)\n",
        "recall = recall_score(y_test, y_test_pred)\n",
        "\n",
        "# print the training and test accuracies\n",
        "print(f\"Training accuracy: {training_accuracy * 100:.2f}%\")\n",
        "print(f\"Testing accuracy: {testing_accuracy * 100:.2f}%\")\n",
        "print(f\"precision score: {precision * 100:.2f}%\")\n",
        "print(f\"recall score: {recall * 100:.2f}%\")"
      ],
      "metadata": {
        "colab": {
          "base_uri": "https://localhost:8080/"
        },
        "id": "EdNB515TjVYm",
        "outputId": "478ca34f-37db-47f7-9212-4dbffd3411e3"
      },
      "execution_count": null,
      "outputs": [
        {
          "output_type": "stream",
          "name": "stdout",
          "text": [
            "Training accuracy: 78.75%\n",
            "Testing accuracy: 77.00%\n",
            "precision score: 89.61%\n",
            "recall score: 64.49%\n"
          ]
        }
      ]
    },
    {
      "cell_type": "markdown",
      "source": [
        "# MAKING CONFUSION MATRIX"
      ],
      "metadata": {
        "id": "0VKu3pe4q-JG"
      }
    },
    {
      "cell_type": "code",
      "source": [
        "from sklearn.metrics import confusion_matrix, accuracy_score\n",
        "\n",
        "# confusion matrix of y_test and y_pred_test\n",
        "cm = confusion_matrix(y_test, y_test_pred)\n",
        "\n",
        "# confusion matrix of y_train and y_pred_train\n",
        "cm_train = confusion_matrix(y_train, y_train_pred)\n",
        "\n",
        "print(\"confusion matrix for training set: \\n\", cm_train)\n",
        "print(\"confusion matrix for testing set: \\n\", cm)\n",
        "print(\"Training accuracy:{:.2f}%\".format(accuracy_score(y_train, y_train_pred)*100))\n",
        "print(\"Testing accuracy:{:.2f}%\".format(accuracy_score(y_test, y_test_pred)*100))"
      ],
      "metadata": {
        "colab": {
          "base_uri": "https://localhost:8080/"
        },
        "outputId": "549ca911-ba1b-46ee-c5c8-17e1828ea254",
        "id": "7FNijIfWngGi"
      },
      "execution_count": null,
      "outputs": [
        {
          "output_type": "stream",
          "name": "stdout",
          "text": [
            "confusion matrix for training set: \n",
            " [[368  39]\n",
            " [131 262]]\n",
            "confusion matrix for testing set: \n",
            " [[85  8]\n",
            " [38 69]]\n",
            "Training accuracy:78.75%\n",
            "Testing accuracy:77.00%\n"
          ]
        }
      ]
    },
    {
      "cell_type": "markdown",
      "source": [
        "# PREDICTING NEW REVIEW"
      ],
      "metadata": {
        "id": "9ZRgcGyIrCK5"
      }
    },
    {
      "cell_type": "code",
      "source": [
        "# predicting new review\n",
        "new_review = 'i love this place'\n",
        "new_review = re.sub('[^a-zA-Z]', ' ', new_review)\n",
        "new_review = new_review.lower()\n",
        "new_review = new_review.split()\n",
        "ps = PorterStemmer()\n",
        "all_stopwords = stopwords.words('english')\n",
        "new_review = [ps.stem(word) for word in new_review if not word in set(all_stopwords)]\n",
        "new_review = ' '.join(new_review)\n",
        "new_corpus = [new_review]\n",
        "new_X_test = cv.transform(new_corpus).toarray()\n",
        "new_y_pred = model.predict(new_X_test)\n",
        "print(new_y_pred)"
      ],
      "metadata": {
        "colab": {
          "base_uri": "https://localhost:8080/"
        },
        "outputId": "fb64c636-88f3-4808-e6a5-7988c3be589d",
        "id": "iAoiWRKEm9sL"
      },
      "execution_count": null,
      "outputs": [
        {
          "output_type": "stream",
          "name": "stdout",
          "text": [
            "[1]\n"
          ]
        }
      ]
    },
    {
      "cell_type": "markdown",
      "source": [
        "# VISUALIZATION"
      ],
      "metadata": {
        "id": "UijmuetprF18"
      }
    },
    {
      "cell_type": "code",
      "source": [
        "# plotting confusion matrix of train data\n",
        "plt.figure(figsize = (6, 3))\n",
        "sns.heatmap(cm_train, annot = True, cmap = \"OrRd\", fmt = 'd', xticklabels = ['Negative', 'Positive'], yticklabels = ['Negative', 'Positive'])\n",
        "plt.xlabel('predicted value')\n",
        "plt.ylabel('actual value')"
      ],
      "metadata": {
        "colab": {
          "base_uri": "https://localhost:8080/",
          "height": 328
        },
        "outputId": "88afb1d7-a19e-4a84-fa7a-dd87709b80b3",
        "id": "xCutqcUwotlz"
      },
      "execution_count": null,
      "outputs": [
        {
          "output_type": "execute_result",
          "data": {
            "text/plain": [
              "Text(45.722222222222214, 0.5, 'actual value')"
            ]
          },
          "metadata": {},
          "execution_count": 153
        },
        {
          "output_type": "display_data",
          "data": {
            "text/plain": [
              "<Figure size 600x300 with 2 Axes>"
            ],
            "image/png": "[encoded data removed]"
          },
          "metadata": {}
        }
      ]
    },
    {
      "cell_type": "code",
      "source": [
        "# plotting confusion matrix of test data\n",
        "plt.figure(figsize = (6, 3))\n",
        "sns.heatmap(cm, annot = True, cmap = \"OrRd\", fmt = 'd', xticklabels = ['Negative', 'Positive'], yticklabels = ['Negative', 'Positive'])\n",
        "plt.xlabel('Predicted value')\n",
        "plt.ylabel('actual value')"
      ],
      "metadata": {
        "colab": {
          "base_uri": "https://localhost:8080/",
          "height": 328
        },
        "outputId": "b279295b-8438-477a-89d6-aef54aef6f56",
        "id": "nI6Ub-gRo5oe"
      },
      "execution_count": null,
      "outputs": [
        {
          "output_type": "execute_result",
          "data": {
            "text/plain": [
              "Text(45.722222222222214, 0.5, 'actual value')"
            ]
          },
          "metadata": {},
          "execution_count": 154
        },
        {
          "output_type": "display_data",
          "data": {
            "text/plain": [
              "<Figure size 600x300 with 2 Axes>"
            ],
            "image/png": "[encoded data removed]"
          },
          "metadata": {}
        }
      ]
    }
  ]
}